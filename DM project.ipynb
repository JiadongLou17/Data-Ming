{
 "cells": [
  {
   "cell_type": "markdown",
   "metadata": {},
   "source": [
    "# DM project"
   ]
  },
  {
   "cell_type": "markdown",
   "metadata": {},
   "source": [
    "### **Caution: As for convenience, the main process is at front while built functions and functions are defined at back. Thus please firstly run the code at Section \"Built Functions\", then go through the main process"
   ]
  },
  {
   "cell_type": "markdown",
   "metadata": {},
   "source": [
    "## Main Process"
   ]
  },
  {
   "cell_type": "code",
   "execution_count": 19,
   "metadata": {},
   "outputs": [],
   "source": [
    "# Dependencies loading\n",
    "import pandas as pd\n",
    "import numpy as np\n",
    "import matplotlib.pyplot as plt\n",
    "import nltk\n",
    "import random\n",
    "\n",
    "from nltk.tokenize import  sent_tokenize,word_tokenize\n",
    "from nltk.stem import WordNetLemmatizer\n",
    "from nltk.corpus import wordnet\n",
    "from nltk.corpus import stopwords\n",
    "from sklearn.model_selection import train_test_split\n",
    "from sklearn.metrics import accuracy_score\n",
    "from sklearn.feature_extraction.text import TfidfVectorizer,CountVectorizer\n",
    "from sklearn.ensemble import RandomForestClassifier\n",
    "\n",
    "random.seed(10)\n",
    "\n"
   ]
  },
  {
   "cell_type": "markdown",
   "metadata": {},
   "source": [
    "### Read and Preprocess raw data"
   ]
  },
  {
   "cell_type": "markdown",
   "metadata": {},
   "source": [
    "#### Stop words initialization"
   ]
  },
  {
   "cell_type": "code",
   "execution_count": 2,
   "metadata": {},
   "outputs": [],
   "source": [
    "stop_words = set(stopwords.words('english'))\n",
    "# remove following lines if you need punctuation \n",
    "stop_words.update(['.', ',', '\"', \"'\", '?', '!', ':', ';', '(', ')', '[', ']', '{', '}'])"
   ]
  },
  {
   "cell_type": "markdown",
   "metadata": {},
   "source": [
    "#### Load data"
   ]
  },
  {
   "cell_type": "code",
   "execution_count": 3,
   "metadata": {},
   "outputs": [
    {
     "name": "stdout",
     "output_type": "stream",
     "text": [
      "                                                text  label\n",
      "0  Fiskars has a strong portfolio of internationa...      1\n",
      "1  METALS-Zinc surges 12 pct after Glencore cuts ...      1\n",
      "2  According to Scanfil , demand for telecommunic...     -1\n",
      "3  dbs launches new banking api developer platfor...      1\n",
      "4  Theodosopoulos said Tellabs could be of value ...      1\n"
     ]
    }
   ],
   "source": [
    "# read train data\n",
    "df_train_data = pd.read_excel('Data/train.xlsx')\n",
    "df_train_data.dropna(inplace=True)\n",
    "\n",
    "# load original text and label as dataframe\n",
    "df_train_data_text = df_train_data['text']\n",
    "df_train_data_label = df_train_data['label']\n",
    "\n",
    "\n",
    "print(df_train_data.head())"
   ]
  },
  {
   "cell_type": "code",
   "execution_count": 4,
   "metadata": {},
   "outputs": [],
   "source": [
    "# Load LM-dictionary data\n",
    "# read excel data as numpy array\n",
    "words_Negative = np.array(pd.read_excel('Data/LoughranMcDonald_SentimentWordLists_2018.xlsx', \n",
    "                   sheet_name='Negative', header=None)).reshape(-1,).tolist()\n",
    "words_Positive = np.array(pd.read_excel('Data/LoughranMcDonald_SentimentWordLists_2018.xlsx', \n",
    "                   sheet_name='Positive', header=None)).reshape(-1,).tolist()\n",
    "words_Uncertainty = np.array(pd.read_excel('Data/LoughranMcDonald_SentimentWordLists_2018.xlsx', \n",
    "                   sheet_name='Uncertainty', header=None)).reshape(-1,).tolist()\n",
    "words_Litigious = np.array(pd.read_excel('Data/LoughranMcDonald_SentimentWordLists_2018.xlsx', \n",
    "                   sheet_name='Litigious', header=None)).reshape(-1,).tolist()\n",
    "words_StrongModal = np.array(pd.read_excel('Data/LoughranMcDonald_SentimentWordLists_2018.xlsx', \n",
    "                   sheet_name='StrongModal', header=None)).reshape(-1,).tolist()\n",
    "words_WeakModal = np.array(pd.read_excel('Data/LoughranMcDonald_SentimentWordLists_2018.xlsx', \n",
    "                   sheet_name='WeakModal', header=None)).reshape(-1,).tolist()\n",
    "words_Constraining = np.array(pd.read_excel('Data/LoughranMcDonald_SentimentWordLists_2018.xlsx', \n",
    "                   sheet_name='Constraining', header=None)).reshape(-1,).tolist()"
   ]
  },
  {
   "cell_type": "markdown",
   "metadata": {},
   "source": [
    "#### Preprocess"
   ]
  },
  {
   "cell_type": "code",
   "execution_count": 32,
   "metadata": {},
   "outputs": [],
   "source": [
    "# DO Preprocess with data-cleaning\n",
    "\n",
    "# preprocess text dataset with cleaning for model1\n",
    "train_data_text_model1 = np.array([clean_tokenize_text(i) \n",
    "                  for i in df_train_data_text])"
   ]
  },
  {
   "cell_type": "code",
   "execution_count": 5,
   "metadata": {},
   "outputs": [],
   "source": [
    "# preprocess text dataset with cleaning for model2\n",
    "train_data_text_model2 = np.array(df_train_data_text)"
   ]
  },
  {
   "cell_type": "code",
   "execution_count": 6,
   "metadata": {},
   "outputs": [],
   "source": [
    "# preprocess label dataset to np.array\n",
    "train_data_label = np.array(df_train_data_label)\n",
    "\n",
    "#After preprocess, text and label data are all in np.array"
   ]
  },
  {
   "cell_type": "code",
   "execution_count": 14,
   "metadata": {},
   "outputs": [],
   "source": [
    "# transfer it into hash map for fast reading rather than loop finding\n",
    "dict_neg = {word.lower():-1 for word in words_Negative} #the value of key could be changed\n",
    "dict_pos = {word.lower():1 for word in words_Positive}\n",
    "dict_words = merge_two_dict(dict_neg,dict_pos)"
   ]
  },
  {
   "cell_type": "markdown",
   "metadata": {},
   "source": [
    "### Models Test"
   ]
  },
  {
   "cell_type": "markdown",
   "metadata": {},
   "source": [
    "#### Model 1: Lexcon-based Model"
   ]
  },
  {
   "cell_type": "code",
   "execution_count": 15,
   "metadata": {},
   "outputs": [],
   "source": [
    "model1 = model_LB(dict_pos,dict_neg,0.1) # Initialize model"
   ]
  },
  {
   "cell_type": "code",
   "execution_count": 16,
   "metadata": {},
   "outputs": [],
   "source": [
    "# do the F1 score finding with threshold changing\n",
    "# This process is just like hyper-parameter selecting\n",
    "thresholds = np.linspace(-1,0.5,20)\n",
    "F1_buf = []\n",
    "acc_buf = []\n",
    "for threshold in thresholds:\n",
    "    model1.threshold = threshold # change the parameter for model1\n",
    "    f1_new,confusion_mat = F1(train_data_text,train_data_label,model1)\n",
    "    acc_new = accuracy(train_data_text,train_data_label,model1)\n",
    "    \n",
    "    F1_buf += [f1_new]\n",
    "    acc_buf += [acc_new]\n",
    "    #print(confusion_mat)"
   ]
  },
  {
   "cell_type": "code",
   "execution_count": 17,
   "metadata": {},
   "outputs": [
    {
     "data": {
      "image/png": "[encoded data removed]",
      "text/plain": [
       "<Figure size 432x288 with 1 Axes>"
      ]
     },
     "metadata": {
      "needs_background": "light"
     },
     "output_type": "display_data"
    },
    {
     "data": {
      "image/png": "[encoded data removed]",
      "text/plain": [
       "<Figure size 432x288 with 1 Axes>"
      ]
     },
     "metadata": {
      "needs_background": "light"
     },
     "output_type": "display_data"
    }
   ],
   "source": [
    "plt.plot(thresholds,F1_buf)\n",
    "plt.title('F1 score')\n",
    "plt.show()\n",
    "\n",
    "plt.plot(thresholds,acc_buf)\n",
    "plt.title('Accuracy')\n",
    "plt.show()"
   ]
  },
  {
   "cell_type": "markdown",
   "metadata": {},
   "source": [
    "#### Model 2: Statistical Model"
   ]
  },
  {
   "cell_type": "markdown",
   "metadata": {},
   "source": [
    "##### RandomForest (Need further hyper-parameter selecting)"
   ]
  },
  {
   "cell_type": "code",
   "execution_count": 20,
   "metadata": {},
   "outputs": [],
   "source": [
    "# split dataset with validation\n",
    "tfidf_vectorizer = TfidfVectorizer()\n",
    "tfidf_train_data_text_model2 = tfidf_vectorizer.fit_transform(train_data_text_model2)\n",
    "test_size = 0.2\n",
    "tfidf_sub_train_data_text_model2, tfidf_val_data_text_model2, sub_train_data_label, val_data_label = train_test_split(tfidf_train_data_text_model2, train_data_label, test_size=test_size)\n"
   ]
  },
  {
   "cell_type": "code",
   "execution_count": 21,
   "metadata": {},
   "outputs": [],
   "source": [
    "model2 = model_Rand_Forest(12,37)\n",
    "model2.train(tfidf_sub_train_data_text_model2,sub_train_data_label)"
   ]
  },
  {
   "cell_type": "code",
   "execution_count": 22,
   "metadata": {},
   "outputs": [],
   "source": [
    "f1_new,confusion_mat = F1(tfidf_val_data_text_model2,val_data_label,model2)"
   ]
  },
  {
   "cell_type": "code",
   "execution_count": 23,
   "metadata": {},
   "outputs": [],
   "source": [
    "acc = accuracy(tfidf_val_data_text_model2,val_data_label,model2)"
   ]
  },
  {
   "cell_type": "code",
   "execution_count": 24,
   "metadata": {},
   "outputs": [
    {
     "name": "stdout",
     "output_type": "stream",
     "text": [
      "[[551 317]\n",
      " [  0   0]]\n",
      "[0.73156682]\n"
     ]
    }
   ],
   "source": [
    "print(confusion_mat)\n",
    "print(acc)"
   ]
  },
  {
   "cell_type": "markdown",
   "metadata": {},
   "source": [
    "#### Model 3: Further Model"
   ]
  },
  {
   "cell_type": "markdown",
   "metadata": {},
   "source": [
    "## Built Functions"
   ]
  },
  {
   "cell_type": "markdown",
   "metadata": {},
   "source": [
    "### Preprocess Functions"
   ]
  },
  {
   "cell_type": "code",
   "execution_count": 7,
   "metadata": {},
   "outputs": [],
   "source": [
    "def get_wordnet_pos(treebank_tag):\n",
    "    # transfer nltk pos tag to wordnet postag\n",
    "    if treebank_tag.startswith('J'):\n",
    "        return wordnet.ADJ\n",
    "    elif treebank_tag.startswith('V'):\n",
    "        return wordnet.VERB\n",
    "    elif treebank_tag.startswith('N'):\n",
    "        return wordnet.NOUN\n",
    "    elif treebank_tag.startswith('R'):\n",
    "        return wordnet.ADV\n",
    "    else:\n",
    "        return 'n'\n",
    "\n",
    "def clean_tokenize_text(text,remove_stopwords=True):# 是否移除\n",
    " \n",
    "    \"\"\"\n",
    "    Clean and tokenize text into words\n",
    "    \"\"\"\n",
    "    #Step1:tokenize\n",
    "    words = word_tokenize(text)\n",
    "    #Step2:pos tagging\n",
    "    word_tags = nltk.pos_tag(words)\n",
    "\n",
    "    wnl = WordNetLemmatizer()\n",
    "    filtered_words=[]\n",
    "    \n",
    "    for word_tag in word_tags:   \n",
    "        wornet_tag = get_wordnet_pos(word_tag[1])\n",
    "         #step3: Lemmatization or stemming\n",
    "        word_lemma = wnl.lemmatize(word_tag[0],pos=wornet_tag)\n",
    "        #step4: normalize case\n",
    "        low_word_lemma = word_lemma.lower()\n",
    "         #step5: remove stop words\n",
    "        if remove_stopwords and low_word_lemma in stop_words: \n",
    "            continue\n",
    "        filtered_words.append(low_word_lemma)\n",
    "    # count word fequency\n",
    "    return filtered_words\n",
    "def merge_two_dict(a,b):\n",
    "    c = a.copy()\n",
    "    c.update(b)\n",
    "    return c"
   ]
  },
  {
   "cell_type": "markdown",
   "metadata": {},
   "source": [
    "### Predict Functions for different models\n",
    "#### Notes:  Only have to build predict() functions in model class. This is for standard evaluation process."
   ]
  },
  {
   "cell_type": "code",
   "execution_count": 8,
   "metadata": {},
   "outputs": [],
   "source": [
    "# Build Model class for structed data\n",
    "class model():\n",
    "    def __init__(self):\n",
    "        self.predict = None #would be re-constructed"
   ]
  },
  {
   "cell_type": "markdown",
   "metadata": {},
   "source": [
    "### Model 1 : Lexicon-based Model"
   ]
  },
  {
   "cell_type": "code",
   "execution_count": 9,
   "metadata": {},
   "outputs": [],
   "source": [
    "class model_LB(model):\n",
    "    def __init__(self,dict_pos,dict_neg,threshold = 0):\n",
    "        self.dict_pos = dict_pos\n",
    "        self.dict_neg = dict_neg\n",
    "        self.threshold = threshold\n",
    "        \n",
    "    def pos_count(self,text):\n",
    "        pos_count = 0\n",
    "        for word in text:\n",
    "            pos_count += (word in self.dict_pos)\n",
    "        return pos_count\n",
    "\n",
    "    def neg_count(self,text):\n",
    "        neg_count = 0\n",
    "        for word in text:\n",
    "            neg_count += (word in self.dict_neg)\n",
    "        return neg_count\n",
    "    \n",
    "    def sentiment_score(self,text):\n",
    "        pos = self.pos_count(text)\n",
    "        neg = self.neg_count(text)\n",
    "        return (pos - neg)/(pos + neg + 1)\n",
    "    \n",
    "    def predict(self,text):\n",
    "        return self.sentiment_score(text) > self.threshold\n",
    "        "
   ]
  },
  {
   "cell_type": "markdown",
   "metadata": {},
   "source": [
    "### Model 2: Statistical Model"
   ]
  },
  {
   "cell_type": "markdown",
   "metadata": {},
   "source": [
    "#### Random Forest"
   ]
  },
  {
   "cell_type": "code",
   "execution_count": 10,
   "metadata": {},
   "outputs": [],
   "source": [
    "class model_Rand_Forest(model):\n",
    "    def __init__(self,n_estimators,random_state):\n",
    "        self.model_in = RandomForestClassifier(n_estimators=n_estimators, random_state=random_state)\n",
    "    def train(self,train_data_text,train_data_label):\n",
    "        self.model_in.fit(train_data_text,train_data_label)\n",
    "    def predict(self,text):\n",
    "        return self.model_in.predict(text)"
   ]
  },
  {
   "cell_type": "markdown",
   "metadata": {},
   "source": [
    "### Model 3: Further Model"
   ]
  },
  {
   "cell_type": "markdown",
   "metadata": {},
   "source": [
    "### Evaluation Functions"
   ]
  },
  {
   "cell_type": "code",
   "execution_count": 11,
   "metadata": {},
   "outputs": [],
   "source": [
    "def accuracy(train_data_text,train_data_label,model):\n",
    "    correct_score = 0 \n",
    "    for i,text in enumerate(train_data_text):\n",
    "        correct_score += model.predict(text) == train_data_label[i]\n",
    "    return correct_score/(i+1)\n",
    "\n",
    "def F1(train_data_text,train_data_label,model):\n",
    "    tp = fp = fn = tn = 0\n",
    "    for i,text in enumerate(train_data_text):\n",
    "        label_new = train_data_label[i] == 1\n",
    "        predict_new = model.predict(text)\n",
    "        if label_new and predict_new:\n",
    "            tp += 1\n",
    "        elif label_new and not predict_new:\n",
    "            fn += 1\n",
    "        elif not label_new and predict_new:\n",
    "            fp += 1\n",
    "        elif not label_new and not predict_new:\n",
    "            tn += 1\n",
    "            \n",
    "    recall = tp/(tp+fn)\n",
    "    precision = tp/(tp+fp)\n",
    "    f1 = 2*precision*recall/(precision+recall)\n",
    "    return f1,np.array([[tp,fp],[fn,tn]])"
   ]
  },
  {
   "cell_type": "markdown",
   "metadata": {},
   "source": [
    "# Some helpful functions from classes\n",
    "### ** These should be removed at final result"
   ]
  },
  {
   "cell_type": "markdown",
   "metadata": {},
   "source": [
    "## Tokenization"
   ]
  },
  {
   "cell_type": "code",
   "execution_count": 37,
   "metadata": {},
   "outputs": [
    {
     "name": "stdout",
     "output_type": "stream",
     "text": [
      "['Fiskars has a strong portfolio of international brands , which include Fiskars , Iittala , Gerber , Silva and Buster .']\n",
      "========================================\n",
      "['Fiskars', 'has', 'a', 'strong', 'portfolio', 'of', 'international', 'brands', ',', 'which', 'include', 'Fiskars', ',', 'Iittala', ',', 'Gerber', ',', 'Silva', 'and', 'Buster', '.']\n",
      "========================================\n",
      "[('Fiskars', 'NNP'), ('has', 'VBZ'), ('a', 'DT'), ('strong', 'JJ'), ('portfolio', 'NN'), ('of', 'IN'), ('international', 'JJ'), ('brands', 'NNS'), (',', ','), ('which', 'WDT'), ('include', 'VBP'), ('Fiskars', 'NNP'), (',', ','), ('Iittala', 'NNP'), (',', ','), ('Gerber', 'NNP'), (',', ','), ('Silva', 'NNP'), ('and', 'CC'), ('Buster', 'NNP'), ('.', '.')]\n",
      "========================================\n"
     ]
    }
   ],
   "source": [
    "traindata_text = df_traindata['text']\n",
    "phrases = sent_tokenize(traindata_text[0])\n",
    "print(phrases)\n",
    "print(\"=\"*40)\n",
    "#totenize words       \n",
    "words = word_tokenize(traindata_text[0])\n",
    "print(words)\n",
    "print(\"=\"*40)\n",
    "\n",
    "#pos tagging words\n",
    "word_tags = nltk.pos_tag(words)\n",
    "print(word_tags)\n",
    "print(\"=\"*40)"
   ]
  },
  {
   "cell_type": "markdown",
   "metadata": {},
   "source": [
    "## Stem"
   ]
  },
  {
   "cell_type": "code",
   "execution_count": 35,
   "metadata": {},
   "outputs": [
    {
     "name": "stdout",
     "output_type": "stream",
     "text": [
      "Word                Porter Stemmer      lancaster Stemmer   Snow Stemmer        \n",
      "Fiskars             fiskar              fisk                fiskar              \n",
      "has                 ha                  has                 has                 \n",
      "a                   a                   a                   a                   \n",
      "strong              strong              strong              strong              \n",
      "portfolio           portfolio           portfolio           portfolio           \n",
      "of                  of                  of                  of                  \n",
      "international       intern              intern              intern              \n",
      "brands              brand               brand               brand               \n",
      ",                   ,                   ,                   ,                   \n",
      "which               which               which               which               \n",
      "include             includ              includ              includ              \n",
      "Fiskars             fiskar              fisk                fiskar              \n",
      ",                   ,                   ,                   ,                   \n",
      "Iittala             iittala             iittal              iittala             \n",
      ",                   ,                   ,                   ,                   \n",
      "Gerber              gerber              gerb                gerber              \n",
      ",                   ,                   ,                   ,                   \n",
      "Silva               silva               silv                silva               \n",
      "and                 and                 and                 and                 \n",
      "Buster              buster              bust                buster              \n",
      ".                   .                   .                   .                   \n"
     ]
    }
   ],
   "source": [
    "porter = nltk.stem.PorterStemmer()\n",
    "lancaster = nltk.stem.LancasterStemmer()\n",
    "snow = nltk.stem.SnowballStemmer('english')\n",
    "word_list = words\n",
    "print(\"{0:20}{1:20}{2:20}{3:20}\".format(\"Word\",\"Porter Stemmer\",\"lancaster Stemmer\",\"Snow Stemmer\"))\n",
    "for word in word_list:\n",
    "    print(\"{0:20}{1:20}{2:20}{3:20}\".format(word,porter.stem(word),lancaster.stem(word),snow.stem(word)))\n",
    "    "
   ]
  },
  {
   "cell_type": "markdown",
   "metadata": {},
   "source": [
    "## Lemma"
   ]
  },
  {
   "cell_type": "code",
   "execution_count": 38,
   "metadata": {},
   "outputs": [
    {
     "name": "stdout",
     "output_type": "stream",
     "text": [
      "going\n",
      "go\n",
      "====================\n",
      "Fiskars --> Fiskars\n",
      "has --> have\n",
      "a --> a\n",
      "strong --> strong\n",
      "portfolio --> portfolio\n",
      "of --> of\n",
      "international --> international\n",
      "brands --> brand\n",
      ", --> ,\n",
      "which --> which\n",
      "include --> include\n",
      "Fiskars --> Fiskars\n",
      ", --> ,\n",
      "Iittala --> Iittala\n",
      ", --> ,\n",
      "Gerber --> Gerber\n",
      ", --> ,\n",
      "Silva --> Silva\n",
      "and --> and\n",
      "Buster --> Buster\n",
      ". --> .\n"
     ]
    }
   ],
   "source": [
    "from nltk.stem import WordNetLemmatizer\n",
    "import nltk\n",
    "from nltk.corpus import wordnet\n",
    "\n",
    "def get_wordnet_pos(treebank_tag):\n",
    "    \"\"\",./之类的\n",
    "    Translate the complext NLTK postag to simplied \n",
    "    wordnet definitions of postag\n",
    "    \"\"\"\n",
    "    if treebank_tag.startswith('J'):\n",
    "        return wordnet.ADJ\n",
    "    elif treebank_tag.startswith('V'):\n",
    "        return wordnet.VERB\n",
    "    elif treebank_tag.startswith('N'):\n",
    "        return wordnet.NOUN\n",
    "    elif treebank_tag.startswith('R'):\n",
    "        return wordnet.ADV\n",
    "    else:\n",
    "        return 'n'\n",
    "\n",
    "word_tags = nltk.pos_tag(words)\n",
    "wnl = WordNetLemmatizer()\n",
    "print(wnl.lemmatize('going','n'))\n",
    "print(wnl.lemmatize('going','v'))\n",
    "print(\"=\"*20)\n",
    "for word_tag in word_tags:   \n",
    "    wornet_tag = get_wordnet_pos(word_tag[1])\n",
    "    print(word_tag[0],\"-->\", \n",
    "          wnl.lemmatize(word_tag[0],wornet_tag))"
   ]
  },
  {
   "cell_type": "markdown",
   "metadata": {},
   "source": [
    "## Stopwords"
   ]
  },
  {
   "cell_type": "code",
   "execution_count": 39,
   "metadata": {},
   "outputs": [
    {
     "name": "stdout",
     "output_type": "stream",
     "text": [
      "['Fiskars', 'has', 'a', 'strong', 'portfolio', 'of', 'international', 'brands', ',', 'which', 'include', 'Fiskars', ',', 'Iittala', ',', 'Gerber', ',', 'Silva', 'and', 'Buster', '.']\n",
      "====================\n",
      "['fiskars', 'strong', 'portfolio', 'international', 'brands', 'include', 'fiskars', 'iittala', 'gerber', 'silva', 'buster']\n"
     ]
    }
   ],
   "source": [
    "from nltk.corpus import stopwords\n",
    "stop_words = set(stopwords.words('english'))\n",
    "# remove following lines if you need punctuation \n",
    "stop_words.update(['.', ',', '\"', \"'\", '?', '!', ':', ';', '(', ')', '[', ']', '{', '}'])\n",
    "# not 也会被移除，所以 not happy 和 happy 结果一样\n",
    "filtered_words = []\n",
    "for word in words:\n",
    "    low_word = word.lower()\n",
    "    if low_word in stop_words:\n",
    "        continue\n",
    "    filtered_words.append(low_word)#normalize case\n",
    "print(words)\n",
    "print('='*20)\n",
    "print(filtered_words)"
   ]
  },
  {
   "cell_type": "markdown",
   "metadata": {},
   "source": [
    "## cleancount"
   ]
  },
  {
   "cell_type": "code",
   "execution_count": 40,
   "metadata": {},
   "outputs": [
    {
     "name": "stdout",
     "output_type": "stream",
     "text": [
      "           0      fiskars       strong    portfolio internationa          ... \n",
      "           1            1            1            1            1            1 \n",
      "====================\n",
      "           0      fiskars       strong    portfolio internationa          ... \n",
      "           1            1            1            1            1            1 \n",
      "====================\n",
      "           0      fiskars         have            a       strong    portfolio           of internationa          ... \n",
      "           1            1            1            1            1            1            1            1            1 \n"
     ]
    }
   ],
   "source": [
    "def get_wordnet_pos(treebank_tag):\n",
    "    # transfer nltk pos tag to wordnet postag\n",
    "    if treebank_tag.startswith('J'):\n",
    "        return wordnet.ADJ\n",
    "    elif treebank_tag.startswith('V'):\n",
    "        return wordnet.VERB\n",
    "    elif treebank_tag.startswith('N'):\n",
    "        return wordnet.NOUN\n",
    "    elif treebank_tag.startswith('R'):\n",
    "        return wordnet.ADV\n",
    "    else:\n",
    "        return 'n'\n",
    "\n",
    "def clean_tokenize_text(text,remove_stopwords=True):# 是否移除\n",
    " \n",
    "    \"\"\"\n",
    "    Clean and tokenize text into words\n",
    "    \"\"\"\n",
    "    #Step1:tokenize\n",
    "    words = word_tokenize(text)\n",
    "    #Step2:pos tagging\n",
    "    word_tags = nltk.pos_tag(words)\n",
    "\n",
    "    wnl = WordNetLemmatizer()\n",
    "    filtered_words=[]\n",
    "    \n",
    "    for word_tag in word_tags:   \n",
    "        wornet_tag = get_wordnet_pos(word_tag[1])\n",
    "         #step3: Lemmatization or stemming\n",
    "        word_lemma = wnl.lemmatize(word_tag[0],pos=wornet_tag)\n",
    "        #step4: normalize case\n",
    "        low_word_lemma = word_lemma.lower()\n",
    "         #step5: remove stop words\n",
    "        if remove_stopwords and low_word_lemma in stop_words: \n",
    "            continue\n",
    "        filtered_words.append(low_word_lemma)\n",
    "    # count word fequency\n",
    "    return filtered_words\n",
    "\n",
    "if __name__ == \"__main__\":\n",
    "    clean_words = clean_tokenize_text(df_traindata_text[0])\n",
    "    word_count = nltk.FreqDist(clean_words)\n",
    "    word_count.tabulate()#print the word freq\n",
    "    \n",
    "    print(\"=\"*20)\n",
    "    \n",
    "    clean_words = clean_tokenize_text(df_traindata_text[0])\n",
    "    word_count = nltk.FreqDist(clean_words)\n",
    "    word_count.tabulate()\n",
    "    \n",
    "    print(\"=\"*20)\n",
    "    \n",
    "    clean_words = clean_tokenize_text(df_traindata_text[0],False)#without removing stopwords\n",
    "    word_count = nltk.FreqDist(clean_words)\n",
    "    word_count.tabulate()\n",
    "    "
   ]
  }
 ],
 "metadata": {
  "hide_input": false,
  "kernelspec": {
   "display_name": "Python 3",
   "language": "python",
   "name": "python3"
  },
  "language_info": {
   "codemirror_mode": {
    "name": "ipython",
    "version": 3
   },
   "file_extension": ".py",
   "mimetype": "text/x-python",
   "name": "python",
   "nbconvert_exporter": "python",
   "pygments_lexer": "ipython3",
   "version": "3.8.5"
  }
 },
 "nbformat": 4,
 "nbformat_minor": 5
}
